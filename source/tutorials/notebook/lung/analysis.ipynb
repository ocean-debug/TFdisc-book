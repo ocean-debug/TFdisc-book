{
 "cells": [
  {
   "cell_type": "markdown",
   "id": "e915e75c-62aa-4e6a-891a-66172319df52",
   "metadata": {},
   "source": [
    "# Overview"
   ]
  },
  {
   "cell_type": "markdown",
   "id": "d99caa53-82da-4aae-bd6b-e5755d0581b0",
   "metadata": {},
   "source": [
    "The perturbed gene expression matrix can be combined with the original expression matrix for extensive downstream analysis,\n",
    "including identifying differentially expressed genes and pathways, and predicting alterations in cell identity, lineage, and function."
   ]
  },
  {
   "cell_type": "code",
   "execution_count": null,
   "id": "bc306f09-df0f-4afe-bd19-ad946634ffda",
   "metadata": {},
   "outputs": [],
   "source": []
  },
  {
   "cell_type": "code",
   "execution_count": null,
   "id": "7ce2182c-f94c-4d9d-a053-d04d616c4cd6",
   "metadata": {},
   "outputs": [],
   "source": []
  },
  {
   "cell_type": "code",
   "execution_count": null,
   "id": "2c6cb286-44ef-4a5e-91d1-0e4fd3574093",
   "metadata": {},
   "outputs": [],
   "source": []
  }
 ],
 "metadata": {
  "kernelspec": {
   "display_name": "Python [conda env:TFdisc]",
   "language": "python",
   "name": "conda-env-TFdisc-py"
  },
  "language_info": {
   "codemirror_mode": {
    "name": "ipython",
    "version": 3
   },
   "file_extension": ".py",
   "mimetype": "text/x-python",
   "name": "python",
   "nbconvert_exporter": "python",
   "pygments_lexer": "ipython3",
   "version": "3.10.12"
  }
 },
 "nbformat": 4,
 "nbformat_minor": 5
}
